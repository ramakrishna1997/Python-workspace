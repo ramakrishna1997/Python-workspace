{
 "cells": [
  {
   "cell_type": "code",
   "execution_count": 2,
   "id": "f69986c8",
   "metadata": {},
   "outputs": [],
   "source": [
    "import numpy as np\n",
    "a=np.array([[0,1,2],[3,4,5],[6,7,8]])"
   ]
  },
  {
   "cell_type": "code",
   "execution_count": 3,
   "id": "3f19d444",
   "metadata": {},
   "outputs": [
    {
     "data": {
      "text/plain": [
       "array([[0, 1, 2],\n",
       "       [3, 4, 5],\n",
       "       [6, 7, 8]])"
      ]
     },
     "execution_count": 3,
     "metadata": {},
     "output_type": "execute_result"
    }
   ],
   "source": [
    "a"
   ]
  },
  {
   "cell_type": "code",
   "execution_count": 4,
   "id": "8ed8306a",
   "metadata": {},
   "outputs": [
    {
     "data": {
      "text/plain": [
       "2"
      ]
     },
     "execution_count": 4,
     "metadata": {},
     "output_type": "execute_result"
    }
   ],
   "source": [
    "a.ndim"
   ]
  },
  {
   "cell_type": "code",
   "execution_count": 5,
   "id": "62fe6d3c",
   "metadata": {},
   "outputs": [
    {
     "data": {
      "text/plain": [
       "(3, 3)"
      ]
     },
     "execution_count": 5,
     "metadata": {},
     "output_type": "execute_result"
    }
   ],
   "source": [
    "a.shape"
   ]
  },
  {
   "cell_type": "code",
   "execution_count": 6,
   "id": "c6465018",
   "metadata": {},
   "outputs": [
    {
     "data": {
      "text/plain": [
       "9"
      ]
     },
     "execution_count": 6,
     "metadata": {},
     "output_type": "execute_result"
    }
   ],
   "source": [
    "a.size"
   ]
  },
  {
   "cell_type": "code",
   "execution_count": 7,
   "id": "30782ae5",
   "metadata": {},
   "outputs": [
    {
     "data": {
      "text/plain": [
       "dtype('int32')"
      ]
     },
     "execution_count": 7,
     "metadata": {},
     "output_type": "execute_result"
    }
   ],
   "source": [
    "a.dtype"
   ]
  },
  {
   "cell_type": "code",
   "execution_count": 8,
   "id": "83863e51",
   "metadata": {},
   "outputs": [
    {
     "data": {
      "text/plain": [
       "4"
      ]
     },
     "execution_count": 8,
     "metadata": {},
     "output_type": "execute_result"
    }
   ],
   "source": [
    "a.itemsize"
   ]
  },
  {
   "cell_type": "code",
   "execution_count": 12,
   "id": "ccf6a8d0",
   "metadata": {},
   "outputs": [],
   "source": [
    "a=np.array([[0,1,2],[3,4,5],[6,7,8]],dtype=np.float32)# int to float"
   ]
  },
  {
   "cell_type": "code",
   "execution_count": 10,
   "id": "c1201914",
   "metadata": {},
   "outputs": [
    {
     "data": {
      "text/plain": [
       "array([[0., 1., 2.],\n",
       "       [3., 4., 5.],\n",
       "       [6., 7., 8.]], dtype=float32)"
      ]
     },
     "execution_count": 10,
     "metadata": {},
     "output_type": "execute_result"
    }
   ],
   "source": [
    "a"
   ]
  },
  {
   "cell_type": "code",
   "execution_count": 11,
   "id": "0d124541",
   "metadata": {},
   "outputs": [
    {
     "data": {
      "text/plain": [
       "numpy.ndarray"
      ]
     },
     "execution_count": 11,
     "metadata": {},
     "output_type": "execute_result"
    }
   ],
   "source": [
    "type(a)"
   ]
  },
  {
   "cell_type": "code",
   "execution_count": 21,
   "id": "1760a455",
   "metadata": {},
   "outputs": [
    {
     "data": {
      "text/plain": [
       "array([[0, 0, 0, 0],\n",
       "       [0, 0, 0, 0],\n",
       "       [0, 0, 0, 0]], dtype=int64)"
      ]
     },
     "execution_count": 21,
     "metadata": {},
     "output_type": "execute_result"
    }
   ],
   "source": [
    "np.zeros((3,4),dtype=np.int64)"
   ]
  },
  {
   "cell_type": "code",
   "execution_count": 25,
   "id": "068a1799",
   "metadata": {},
   "outputs": [
    {
     "name": "stderr",
     "output_type": "stream",
     "text": [
      "C:\\Users\\Ramakrishna\\AppData\\Local\\Temp\\ipykernel_2628\\2324001063.py:1: DeprecationWarning: `np.complex` is a deprecated alias for the builtin `complex`. To silence this warning, use `complex` by itself. Doing this will not modify any behavior and is safe. If you specifically wanted the numpy scalar type, use `np.complex128` here.\n",
      "Deprecated in NumPy 1.20; for more details and guidance: https://numpy.org/devdocs/release/1.20.0-notes.html#deprecations\n",
      "  np.ones((5,4),dtype=np.complex)\n"
     ]
    },
    {
     "data": {
      "text/plain": [
       "array([[1.+0.j, 1.+0.j, 1.+0.j, 1.+0.j],\n",
       "       [1.+0.j, 1.+0.j, 1.+0.j, 1.+0.j],\n",
       "       [1.+0.j, 1.+0.j, 1.+0.j, 1.+0.j],\n",
       "       [1.+0.j, 1.+0.j, 1.+0.j, 1.+0.j],\n",
       "       [1.+0.j, 1.+0.j, 1.+0.j, 1.+0.j]])"
      ]
     },
     "execution_count": 25,
     "metadata": {},
     "output_type": "execute_result"
    }
   ],
   "source": [
    "np.ones((5,4),dtype=np.complex)"
   ]
  },
  {
   "cell_type": "code",
   "execution_count": 31,
   "id": "4668f906",
   "metadata": {},
   "outputs": [],
   "source": [
    "a=np.eye(5)"
   ]
  },
  {
   "cell_type": "code",
   "execution_count": 29,
   "id": "67b0f1fe",
   "metadata": {},
   "outputs": [
    {
     "data": {
      "text/plain": [
       "array([[1., 0., 0., 0., 0.],\n",
       "       [0., 1., 0., 0., 0.],\n",
       "       [0., 0., 1., 0., 0.],\n",
       "       [0., 0., 0., 1., 0.],\n",
       "       [0., 0., 0., 0., 1.]])"
      ]
     },
     "execution_count": 29,
     "metadata": {},
     "output_type": "execute_result"
    }
   ],
   "source": [
    "a"
   ]
  },
  {
   "cell_type": "code",
   "execution_count": 32,
   "id": "52ad3745",
   "metadata": {},
   "outputs": [
    {
     "data": {
      "text/plain": [
       "dtype('float64')"
      ]
     },
     "execution_count": 32,
     "metadata": {},
     "output_type": "execute_result"
    }
   ],
   "source": [
    "a.dtype"
   ]
  },
  {
   "cell_type": "code",
   "execution_count": 33,
   "id": "79ee8e82",
   "metadata": {},
   "outputs": [
    {
     "data": {
      "text/plain": [
       "array([[1., 0., 0., 0., 0.],\n",
       "       [0., 1., 0., 0., 0.],\n",
       "       [0., 0., 1., 0., 0.],\n",
       "       [0., 0., 0., 1., 0.],\n",
       "       [0., 0., 0., 0., 1.]])"
      ]
     },
     "execution_count": 33,
     "metadata": {},
     "output_type": "execute_result"
    }
   ],
   "source": [
    "a"
   ]
  },
  {
   "cell_type": "code",
   "execution_count": 35,
   "id": "3f0f1e72",
   "metadata": {},
   "outputs": [],
   "source": [
    "z=np.arange(11)"
   ]
  },
  {
   "cell_type": "code",
   "execution_count": 36,
   "id": "31788591",
   "metadata": {},
   "outputs": [
    {
     "data": {
      "text/plain": [
       "array([ 0,  1,  2,  3,  4,  5,  6,  7,  8,  9, 10])"
      ]
     },
     "execution_count": 36,
     "metadata": {},
     "output_type": "execute_result"
    }
   ],
   "source": [
    "z"
   ]
  },
  {
   "cell_type": "code",
   "execution_count": 37,
   "id": "a705f02d",
   "metadata": {},
   "outputs": [
    {
     "data": {
      "text/plain": [
       "chararray(['Thiru', 'PK', 'uday', 'Sur', 'rashmi'], dtype='<U6')"
      ]
     },
     "execution_count": 37,
     "metadata": {},
     "output_type": "execute_result"
    }
   ],
   "source": [
    "np.char.array([\"Thiru\",\"PK\",\"uday\",\"Sur\",\"rashmi\"])"
   ]
  },
  {
   "cell_type": "code",
   "execution_count": 42,
   "id": "ad1619f3",
   "metadata": {},
   "outputs": [
    {
     "data": {
      "text/plain": [
       "array(['CSKSRH', 'miJK', 'GlHyd'], dtype='<U6')"
      ]
     },
     "execution_count": 42,
     "metadata": {},
     "output_type": "execute_result"
    }
   ],
   "source": [
    "np.char.add([\"CSK\",\"mi\",\"Gl\"],[\"SRH\",\"JK\",\"Hyd\"])"
   ]
  },
  {
   "cell_type": "code",
   "execution_count": 43,
   "id": "b3625b1c",
   "metadata": {},
   "outputs": [
    {
     "data": {
      "text/plain": [
       "array('hellohellohello', dtype='<U15')"
      ]
     },
     "execution_count": 43,
     "metadata": {},
     "output_type": "execute_result"
    }
   ],
   "source": [
    "np.char.multiply(\"hello\",3)"
   ]
  },
  {
   "cell_type": "code",
   "execution_count": 50,
   "id": "09d5965b",
   "metadata": {},
   "outputs": [
    {
     "data": {
      "text/plain": [
       "array('----------Helloworld----------', dtype='<U30')"
      ]
     },
     "execution_count": 50,
     "metadata": {},
     "output_type": "execute_result"
    }
   ],
   "source": [
    "np.char.center(\"Helloworld\",30,fillchar=\"-\")"
   ]
  },
  {
   "cell_type": "code",
   "execution_count": 54,
   "id": "98cbb0e9",
   "metadata": {},
   "outputs": [
    {
     "data": {
      "text/plain": [
       "array('^^^^^^^^king will kill the witch^^^^^^^^', dtype='<U40')"
      ]
     },
     "execution_count": 54,
     "metadata": {},
     "output_type": "execute_result"
    }
   ],
   "source": [
    "np.char.center(\"king will kill the witch\",40,fillchar=\"^\")"
   ]
  },
  {
   "cell_type": "code",
   "execution_count": 55,
   "id": "c65bf0b5",
   "metadata": {},
   "outputs": [
    {
     "data": {
      "text/plain": [
       "array('Hello World', dtype='<U11')"
      ]
     },
     "execution_count": 55,
     "metadata": {},
     "output_type": "execute_result"
    }
   ],
   "source": [
    "np.char.title(\"Hello world\")"
   ]
  },
  {
   "cell_type": "code",
   "execution_count": 56,
   "id": "20e93503",
   "metadata": {},
   "outputs": [
    {
     "data": {
      "text/plain": [
       "array('HELLO', dtype='<U5')"
      ]
     },
     "execution_count": 56,
     "metadata": {},
     "output_type": "execute_result"
    }
   ],
   "source": [
    "np.char.upper(\"hello\")"
   ]
  },
  {
   "cell_type": "code",
   "execution_count": 57,
   "id": "39b588a1",
   "metadata": {},
   "outputs": [
    {
     "data": {
      "text/plain": [
       "array('hello king i am killing u soon', dtype='<U30')"
      ]
     },
     "execution_count": 57,
     "metadata": {},
     "output_type": "execute_result"
    }
   ],
   "source": [
    "np.char.lower(\"HELLO KING I AM KILLING U SOON\")"
   ]
  },
  {
   "cell_type": "code",
   "execution_count": 58,
   "id": "2884eec5",
   "metadata": {},
   "outputs": [
    {
     "data": {
      "text/plain": [
       "array(list(['Hi', 'How', 'are', 'you', 'i', 'am', 'under', 'the', 'water']),\n",
       "      dtype=object)"
      ]
     },
     "execution_count": 58,
     "metadata": {},
     "output_type": "execute_result"
    }
   ],
   "source": [
    "np.char.split(\"Hi How are you i am under the water\")"
   ]
  },
  {
   "cell_type": "code",
   "execution_count": 60,
   "id": "7202381c",
   "metadata": {},
   "outputs": [
    {
     "data": {
      "text/plain": [
       "array('Where you now i am waiting for you', dtype='<U34')"
      ]
     },
     "execution_count": 60,
     "metadata": {},
     "output_type": "execute_result"
    }
   ],
   "source": [
    "np.char.capitalize(\"where you now i am waiting for you\")"
   ]
  },
  {
   "cell_type": "code",
   "execution_count": 65,
   "id": "07cb9848",
   "metadata": {},
   "outputs": [
    {
     "data": {
      "text/plain": [
       "array(['what', 'How', 'King', 'Low'], dtype='<U4')"
      ]
     },
     "execution_count": 65,
     "metadata": {},
     "output_type": "execute_result"
    }
   ],
   "source": [
    "np.char.strip([\"what\",\"How\",\"King\",\"Low\"])"
   ]
  },
  {
   "cell_type": "code",
   "execution_count": 67,
   "id": "87bfcf47",
   "metadata": {},
   "outputs": [
    {
     "data": {
      "text/plain": [
       "array(['-hel-', '*hel*'], dtype='<U5')"
      ]
     },
     "execution_count": 67,
     "metadata": {},
     "output_type": "execute_result"
    }
   ],
   "source": [
    "np.char.join([\"hel\"],[\"--\",\"**\"])"
   ]
  },
  {
   "cell_type": "code",
   "execution_count": 70,
   "id": "b97b07e1",
   "metadata": {},
   "outputs": [
    {
     "data": {
      "text/plain": [
       "array('Myy Name is queen', dtype='<U17')"
      ]
     },
     "execution_count": 70,
     "metadata": {},
     "output_type": "execute_result"
    }
   ],
   "source": [
    "np.char.replace(\"Myy Name is king\",\"king\",\"queen\")"
   ]
  },
  {
   "cell_type": "markdown",
   "id": "00f5d5d7",
   "metadata": {},
   "source": [
    "# pandas "
   ]
  },
  {
   "cell_type": "code",
   "execution_count": 73,
   "id": "b89b65d8",
   "metadata": {},
   "outputs": [],
   "source": [
    "import pandas as pd"
   ]
  },
  {
   "cell_type": "code",
   "execution_count": 76,
   "id": "38e505ea",
   "metadata": {},
   "outputs": [
    {
     "name": "stdout",
     "output_type": "stream",
     "text": [
      "1.4.4\n"
     ]
    }
   ],
   "source": [
    "print(pd.__version__)"
   ]
  },
  {
   "cell_type": "code",
   "execution_count": 80,
   "id": "0c7c0c21",
   "metadata": {},
   "outputs": [],
   "source": [
    "a=np.arange(5)\n",
    "ser=pd.Series(a)"
   ]
  },
  {
   "cell_type": "code",
   "execution_count": 85,
   "id": "0a2c0645",
   "metadata": {},
   "outputs": [],
   "source": [
    "b=np.array([1,2,3,4,5])\n",
    "s=pd.Series(b,index=[1,2,3,4,5])"
   ]
  },
  {
   "cell_type": "code",
   "execution_count": 86,
   "id": "482676c0",
   "metadata": {},
   "outputs": [
    {
     "data": {
      "text/plain": [
       "1    1\n",
       "2    2\n",
       "3    3\n",
       "4    4\n",
       "5    5\n",
       "dtype: int32"
      ]
     },
     "execution_count": 86,
     "metadata": {},
     "output_type": "execute_result"
    }
   ],
   "source": [
    "s"
   ]
  },
  {
   "cell_type": "code",
   "execution_count": 96,
   "id": "46fbda3b",
   "metadata": {},
   "outputs": [],
   "source": [
    "c=[[1,2,3,4],[5,6,7,8],[9,3,1,1]]"
   ]
  },
  {
   "cell_type": "code",
   "execution_count": 97,
   "id": "4e4b91fa",
   "metadata": {},
   "outputs": [],
   "source": [
    "s1=pd.Series(c)"
   ]
  },
  {
   "cell_type": "code",
   "execution_count": 99,
   "id": "95fb89e6",
   "metadata": {},
   "outputs": [],
   "source": [
    "s1.index=['A','B','C']"
   ]
  },
  {
   "cell_type": "code",
   "execution_count": 101,
   "id": "5add1b7d",
   "metadata": {},
   "outputs": [
    {
     "data": {
      "text/plain": [
       "A    [1, 2, 3, 4]\n",
       "B    [5, 6, 7, 8]\n",
       "C    [9, 3, 1, 1]\n",
       "dtype: object"
      ]
     },
     "execution_count": 101,
     "metadata": {},
     "output_type": "execute_result"
    }
   ],
   "source": [
    "s1"
   ]
  },
  {
   "cell_type": "code",
   "execution_count": 117,
   "id": "54b1f56e",
   "metadata": {},
   "outputs": [],
   "source": [
    "ran=np.random.rand(5)\n",
    "s3=pd.Series(ran)"
   ]
  },
  {
   "cell_type": "code",
   "execution_count": 118,
   "id": "a54c1b58",
   "metadata": {},
   "outputs": [
    {
     "data": {
      "text/plain": [
       "array([0.5142846 , 0.04584169, 0.7378472 , 0.06521322, 0.39018337])"
      ]
     },
     "execution_count": 118,
     "metadata": {},
     "output_type": "execute_result"
    }
   ],
   "source": [
    "ran"
   ]
  },
  {
   "cell_type": "code",
   "execution_count": 119,
   "id": "de6bdee3",
   "metadata": {},
   "outputs": [],
   "source": [
    "s3=pd.Series(ran)"
   ]
  },
  {
   "cell_type": "code",
   "execution_count": 120,
   "id": "abe7c3d5",
   "metadata": {},
   "outputs": [],
   "source": [
    "s3.index=['A','B','C','D','F']"
   ]
  },
  {
   "cell_type": "code",
   "execution_count": 121,
   "id": "1c1deda2",
   "metadata": {},
   "outputs": [
    {
     "data": {
      "text/plain": [
       "A    0.514285\n",
       "B    0.045842\n",
       "C    0.737847\n",
       "D    0.065213\n",
       "F    0.390183\n",
       "dtype: float64"
      ]
     },
     "execution_count": 121,
     "metadata": {},
     "output_type": "execute_result"
    }
   ],
   "source": [
    "s3"
   ]
  },
  {
   "cell_type": "code",
   "execution_count": 125,
   "id": "ea73d33e",
   "metadata": {},
   "outputs": [],
   "source": [
    "d={\"A\":np.random.rand(3),\"B\":np.random.rand(3)}"
   ]
  },
  {
   "cell_type": "code",
   "execution_count": 126,
   "id": "d31379c2",
   "metadata": {},
   "outputs": [],
   "source": [
    "s5=pd.Series(d)"
   ]
  },
  {
   "cell_type": "code",
   "execution_count": 127,
   "id": "f1183176",
   "metadata": {},
   "outputs": [
    {
     "data": {
      "text/plain": [
       "A    [0.8592472230868896, 0.09638600411944098, 0.02...\n",
       "B    [0.6091822150956464, 0.4882536965024874, 0.103...\n",
       "dtype: object"
      ]
     },
     "execution_count": 127,
     "metadata": {},
     "output_type": "execute_result"
    }
   ],
   "source": [
    "s5"
   ]
  },
  {
   "cell_type": "code",
   "execution_count": 132,
   "id": "88d907ff",
   "metadata": {},
   "outputs": [],
   "source": [
    "df=pd.concat([s5,s3],axis=1)"
   ]
  },
  {
   "cell_type": "code",
   "execution_count": 135,
   "id": "4be86723",
   "metadata": {},
   "outputs": [],
   "source": [
    "df.columns=['A','B']"
   ]
  },
  {
   "cell_type": "code",
   "execution_count": 136,
   "id": "d8460cb2",
   "metadata": {},
   "outputs": [
    {
     "data": {
      "text/html": [
       "<div>\n",
       "<style scoped>\n",
       "    .dataframe tbody tr th:only-of-type {\n",
       "        vertical-align: middle;\n",
       "    }\n",
       "\n",
       "    .dataframe tbody tr th {\n",
       "        vertical-align: top;\n",
       "    }\n",
       "\n",
       "    .dataframe thead th {\n",
       "        text-align: right;\n",
       "    }\n",
       "</style>\n",
       "<table border=\"1\" class=\"dataframe\">\n",
       "  <thead>\n",
       "    <tr style=\"text-align: right;\">\n",
       "      <th></th>\n",
       "      <th>A</th>\n",
       "      <th>B</th>\n",
       "    </tr>\n",
       "  </thead>\n",
       "  <tbody>\n",
       "    <tr>\n",
       "      <th>A</th>\n",
       "      <td>[0.8592472230868896, 0.09638600411944098, 0.02...</td>\n",
       "      <td>0.514285</td>\n",
       "    </tr>\n",
       "    <tr>\n",
       "      <th>B</th>\n",
       "      <td>[0.6091822150956464, 0.4882536965024874, 0.103...</td>\n",
       "      <td>0.045842</td>\n",
       "    </tr>\n",
       "    <tr>\n",
       "      <th>C</th>\n",
       "      <td>NaN</td>\n",
       "      <td>0.737847</td>\n",
       "    </tr>\n",
       "    <tr>\n",
       "      <th>D</th>\n",
       "      <td>NaN</td>\n",
       "      <td>0.065213</td>\n",
       "    </tr>\n",
       "    <tr>\n",
       "      <th>F</th>\n",
       "      <td>NaN</td>\n",
       "      <td>0.390183</td>\n",
       "    </tr>\n",
       "  </tbody>\n",
       "</table>\n",
       "</div>"
      ],
      "text/plain": [
       "                                                   A         B\n",
       "A  [0.8592472230868896, 0.09638600411944098, 0.02...  0.514285\n",
       "B  [0.6091822150956464, 0.4882536965024874, 0.103...  0.045842\n",
       "C                                                NaN  0.737847\n",
       "D                                                NaN  0.065213\n",
       "F                                                NaN  0.390183"
      ]
     },
     "execution_count": 136,
     "metadata": {},
     "output_type": "execute_result"
    }
   ],
   "source": [
    "df"
   ]
  },
  {
   "cell_type": "code",
   "execution_count": 137,
   "id": "5f797794",
   "metadata": {},
   "outputs": [
    {
     "name": "stderr",
     "output_type": "stream",
     "text": [
      "C:\\Users\\Ramakrishna\\AppData\\Local\\Temp\\ipykernel_2628\\599356529.py:1: FutureWarning: The series.append method is deprecated and will be removed from pandas in a future version. Use pandas.concat instead.\n",
      "  s6=s5.append(s3)\n"
     ]
    }
   ],
   "source": [
    "s6=s5.append(s3)"
   ]
  },
  {
   "cell_type": "code",
   "execution_count": 138,
   "id": "3a46ad6e",
   "metadata": {},
   "outputs": [
    {
     "data": {
      "text/plain": [
       "A    [0.8592472230868896, 0.09638600411944098, 0.02...\n",
       "B    [0.6091822150956464, 0.4882536965024874, 0.103...\n",
       "A                                             0.514285\n",
       "B                                             0.045842\n",
       "C                                             0.737847\n",
       "D                                             0.065213\n",
       "F                                             0.390183\n",
       "dtype: object"
      ]
     },
     "execution_count": 138,
     "metadata": {},
     "output_type": "execute_result"
    }
   ],
   "source": [
    "s6"
   ]
  },
  {
   "cell_type": "code",
   "execution_count": 139,
   "id": "53da8272",
   "metadata": {},
   "outputs": [],
   "source": [
    "s7=pd.concat([s6,s5])"
   ]
  },
  {
   "cell_type": "code",
   "execution_count": 140,
   "id": "9f54cce5",
   "metadata": {},
   "outputs": [
    {
     "data": {
      "text/plain": [
       "A    [0.8592472230868896, 0.09638600411944098, 0.02...\n",
       "B    [0.6091822150956464, 0.4882536965024874, 0.103...\n",
       "A                                             0.514285\n",
       "B                                             0.045842\n",
       "C                                             0.737847\n",
       "D                                             0.065213\n",
       "F                                             0.390183\n",
       "A    [0.8592472230868896, 0.09638600411944098, 0.02...\n",
       "B    [0.6091822150956464, 0.4882536965024874, 0.103...\n",
       "dtype: object"
      ]
     },
     "execution_count": 140,
     "metadata": {},
     "output_type": "execute_result"
    }
   ],
   "source": [
    "s7"
   ]
  },
  {
   "cell_type": "code",
   "execution_count": 144,
   "id": "c742920c",
   "metadata": {},
   "outputs": [],
   "source": [
    "s7.drop(\"B\",inplace=True)"
   ]
  },
  {
   "cell_type": "code",
   "execution_count": 145,
   "id": "51ae399c",
   "metadata": {},
   "outputs": [
    {
     "data": {
      "text/plain": [
       "A    [0.8592472230868896, 0.09638600411944098, 0.02...\n",
       "A                                             0.514285\n",
       "C                                             0.737847\n",
       "D                                             0.065213\n",
       "F                                             0.390183\n",
       "A    [0.8592472230868896, 0.09638600411944098, 0.02...\n",
       "dtype: object"
      ]
     },
     "execution_count": 145,
     "metadata": {},
     "output_type": "execute_result"
    }
   ],
   "source": [
    "s7"
   ]
  },
  {
   "cell_type": "code",
   "execution_count": null,
   "id": "7c9bbf60",
   "metadata": {},
   "outputs": [],
   "source": [
    "date=pd.date_range(\"today\",per)"
   ]
  }
 ],
 "metadata": {
  "kernelspec": {
   "display_name": "Python 3 (ipykernel)",
   "language": "python",
   "name": "python3"
  },
  "language_info": {
   "codemirror_mode": {
    "name": "ipython",
    "version": 3
   },
   "file_extension": ".py",
   "mimetype": "text/x-python",
   "name": "python",
   "nbconvert_exporter": "python",
   "pygments_lexer": "ipython3",
   "version": "3.9.13"
  }
 },
 "nbformat": 4,
 "nbformat_minor": 5
}
