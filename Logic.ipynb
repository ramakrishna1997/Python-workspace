{
 "cells": [
  {
   "cell_type": "code",
   "execution_count": 35,
   "id": "100cfd2c",
   "metadata": {},
   "outputs": [],
   "source": [
    "import numpy as np\n",
    "import pandas as pd"
   ]
  },
  {
   "cell_type": "code",
   "execution_count": 59,
   "id": "9571cd9a",
   "metadata": {},
   "outputs": [],
   "source": [
    "titanic_data=pd.read_csv(\"C:/Users/Ramakrishna/Desktop/Titanic Data.csv\",sep=',')"
   ]
  },
  {
   "cell_type": "code",
   "execution_count": 60,
   "id": "a761c6b3",
   "metadata": {},
   "outputs": [
    {
     "data": {
      "text/html": [
       "<div>\n",
       "<style scoped>\n",
       "    .dataframe tbody tr th:only-of-type {\n",
       "        vertical-align: middle;\n",
       "    }\n",
       "\n",
       "    .dataframe tbody tr th {\n",
       "        vertical-align: top;\n",
       "    }\n",
       "\n",
       "    .dataframe thead th {\n",
       "        text-align: right;\n",
       "    }\n",
       "</style>\n",
       "<table border=\"1\" class=\"dataframe\">\n",
       "  <thead>\n",
       "    <tr style=\"text-align: right;\">\n",
       "      <th></th>\n",
       "      <th>Sl No</th>\n",
       "      <th>Name</th>\n",
       "      <th>Gender</th>\n",
       "      <th>Cabin</th>\n",
       "      <th>Age</th>\n",
       "      <th>Fare Type</th>\n",
       "      <th>Survived</th>\n",
       "    </tr>\n",
       "  </thead>\n",
       "  <tbody>\n",
       "    <tr>\n",
       "      <th>0</th>\n",
       "      <td>1</td>\n",
       "      <td>A</td>\n",
       "      <td>Male</td>\n",
       "      <td>Upper</td>\n",
       "      <td>24</td>\n",
       "      <td>Business</td>\n",
       "      <td>Yes</td>\n",
       "    </tr>\n",
       "    <tr>\n",
       "      <th>1</th>\n",
       "      <td>2</td>\n",
       "      <td>B</td>\n",
       "      <td>Female</td>\n",
       "      <td>Lower</td>\n",
       "      <td>30</td>\n",
       "      <td>Premium</td>\n",
       "      <td>Yes</td>\n",
       "    </tr>\n",
       "    <tr>\n",
       "      <th>2</th>\n",
       "      <td>3</td>\n",
       "      <td>C</td>\n",
       "      <td>Male</td>\n",
       "      <td>Middle</td>\n",
       "      <td>35</td>\n",
       "      <td>Economy</td>\n",
       "      <td>No</td>\n",
       "    </tr>\n",
       "    <tr>\n",
       "      <th>3</th>\n",
       "      <td>4</td>\n",
       "      <td>D</td>\n",
       "      <td>Male</td>\n",
       "      <td>Upper</td>\n",
       "      <td>43</td>\n",
       "      <td>Business</td>\n",
       "      <td>Yes</td>\n",
       "    </tr>\n",
       "    <tr>\n",
       "      <th>4</th>\n",
       "      <td>5</td>\n",
       "      <td>E</td>\n",
       "      <td>Male</td>\n",
       "      <td>Lower</td>\n",
       "      <td>27</td>\n",
       "      <td>Premium</td>\n",
       "      <td>No</td>\n",
       "    </tr>\n",
       "    <tr>\n",
       "      <th>5</th>\n",
       "      <td>6</td>\n",
       "      <td>F</td>\n",
       "      <td>Female</td>\n",
       "      <td>Middle</td>\n",
       "      <td>37</td>\n",
       "      <td>Economy</td>\n",
       "      <td>No</td>\n",
       "    </tr>\n",
       "    <tr>\n",
       "      <th>6</th>\n",
       "      <td>7</td>\n",
       "      <td>G</td>\n",
       "      <td>Female</td>\n",
       "      <td>Upper</td>\n",
       "      <td>53</td>\n",
       "      <td>Business</td>\n",
       "      <td>No</td>\n",
       "    </tr>\n",
       "    <tr>\n",
       "      <th>7</th>\n",
       "      <td>8</td>\n",
       "      <td>H</td>\n",
       "      <td>Female</td>\n",
       "      <td>Lower</td>\n",
       "      <td>21</td>\n",
       "      <td>Premium</td>\n",
       "      <td>Yes</td>\n",
       "    </tr>\n",
       "    <tr>\n",
       "      <th>8</th>\n",
       "      <td>9</td>\n",
       "      <td>I</td>\n",
       "      <td>Male</td>\n",
       "      <td>Middle</td>\n",
       "      <td>60</td>\n",
       "      <td>Economy</td>\n",
       "      <td>Yes</td>\n",
       "    </tr>\n",
       "    <tr>\n",
       "      <th>9</th>\n",
       "      <td>10</td>\n",
       "      <td>J</td>\n",
       "      <td>Male</td>\n",
       "      <td>Lower</td>\n",
       "      <td>34</td>\n",
       "      <td>Economy</td>\n",
       "      <td>Yes</td>\n",
       "    </tr>\n",
       "  </tbody>\n",
       "</table>\n",
       "</div>"
      ],
      "text/plain": [
       "   Sl No Name  Gender   Cabin  Age Fare Type Survived\n",
       "0      1    A    Male  Upper    24  Business      Yes\n",
       "1      2    B  Female   Lower   30   Premium      Yes\n",
       "2      3    C    Male  Middle   35   Economy       No\n",
       "3      4    D    Male  Upper    43  Business      Yes\n",
       "4      5    E    Male   Lower   27   Premium       No\n",
       "5      6    F  Female  Middle   37   Economy       No\n",
       "6      7    G  Female  Upper    53  Business       No\n",
       "7      8    H  Female   Lower   21   Premium      Yes\n",
       "8      9    I    Male  Middle   60   Economy      Yes\n",
       "9     10    J    Male   Lower   34   Economy      Yes"
      ]
     },
     "execution_count": 60,
     "metadata": {},
     "output_type": "execute_result"
    }
   ],
   "source": [
    "titanic_data"
   ]
  },
  {
   "cell_type": "code",
   "execution_count": 61,
   "id": "aa3c50ac",
   "metadata": {},
   "outputs": [],
   "source": [
    "titanic_data1=titanic_data.copy()"
   ]
  },
  {
   "cell_type": "code",
   "execution_count": 62,
   "id": "089f0b56",
   "metadata": {},
   "outputs": [
    {
     "data": {
      "text/html": [
       "<div>\n",
       "<style scoped>\n",
       "    .dataframe tbody tr th:only-of-type {\n",
       "        vertical-align: middle;\n",
       "    }\n",
       "\n",
       "    .dataframe tbody tr th {\n",
       "        vertical-align: top;\n",
       "    }\n",
       "\n",
       "    .dataframe thead th {\n",
       "        text-align: right;\n",
       "    }\n",
       "</style>\n",
       "<table border=\"1\" class=\"dataframe\">\n",
       "  <thead>\n",
       "    <tr style=\"text-align: right;\">\n",
       "      <th></th>\n",
       "      <th>Sl No</th>\n",
       "      <th>Name</th>\n",
       "      <th>Gender</th>\n",
       "      <th>Cabin</th>\n",
       "      <th>Age</th>\n",
       "      <th>Fare Type</th>\n",
       "      <th>Survived</th>\n",
       "    </tr>\n",
       "  </thead>\n",
       "  <tbody>\n",
       "    <tr>\n",
       "      <th>0</th>\n",
       "      <td>1</td>\n",
       "      <td>A</td>\n",
       "      <td>Male</td>\n",
       "      <td>Upper</td>\n",
       "      <td>24</td>\n",
       "      <td>Business</td>\n",
       "      <td>Yes</td>\n",
       "    </tr>\n",
       "    <tr>\n",
       "      <th>1</th>\n",
       "      <td>2</td>\n",
       "      <td>B</td>\n",
       "      <td>Female</td>\n",
       "      <td>Lower</td>\n",
       "      <td>30</td>\n",
       "      <td>Premium</td>\n",
       "      <td>Yes</td>\n",
       "    </tr>\n",
       "    <tr>\n",
       "      <th>2</th>\n",
       "      <td>3</td>\n",
       "      <td>C</td>\n",
       "      <td>Male</td>\n",
       "      <td>Middle</td>\n",
       "      <td>35</td>\n",
       "      <td>Economy</td>\n",
       "      <td>No</td>\n",
       "    </tr>\n",
       "    <tr>\n",
       "      <th>3</th>\n",
       "      <td>4</td>\n",
       "      <td>D</td>\n",
       "      <td>Male</td>\n",
       "      <td>Upper</td>\n",
       "      <td>43</td>\n",
       "      <td>Business</td>\n",
       "      <td>Yes</td>\n",
       "    </tr>\n",
       "    <tr>\n",
       "      <th>4</th>\n",
       "      <td>5</td>\n",
       "      <td>E</td>\n",
       "      <td>Male</td>\n",
       "      <td>Lower</td>\n",
       "      <td>27</td>\n",
       "      <td>Premium</td>\n",
       "      <td>No</td>\n",
       "    </tr>\n",
       "    <tr>\n",
       "      <th>5</th>\n",
       "      <td>6</td>\n",
       "      <td>F</td>\n",
       "      <td>Female</td>\n",
       "      <td>Middle</td>\n",
       "      <td>37</td>\n",
       "      <td>Economy</td>\n",
       "      <td>No</td>\n",
       "    </tr>\n",
       "    <tr>\n",
       "      <th>6</th>\n",
       "      <td>7</td>\n",
       "      <td>G</td>\n",
       "      <td>Female</td>\n",
       "      <td>Upper</td>\n",
       "      <td>53</td>\n",
       "      <td>Business</td>\n",
       "      <td>No</td>\n",
       "    </tr>\n",
       "    <tr>\n",
       "      <th>7</th>\n",
       "      <td>8</td>\n",
       "      <td>H</td>\n",
       "      <td>Female</td>\n",
       "      <td>Lower</td>\n",
       "      <td>21</td>\n",
       "      <td>Premium</td>\n",
       "      <td>Yes</td>\n",
       "    </tr>\n",
       "    <tr>\n",
       "      <th>8</th>\n",
       "      <td>9</td>\n",
       "      <td>I</td>\n",
       "      <td>Male</td>\n",
       "      <td>Middle</td>\n",
       "      <td>60</td>\n",
       "      <td>Economy</td>\n",
       "      <td>Yes</td>\n",
       "    </tr>\n",
       "    <tr>\n",
       "      <th>9</th>\n",
       "      <td>10</td>\n",
       "      <td>J</td>\n",
       "      <td>Male</td>\n",
       "      <td>Lower</td>\n",
       "      <td>34</td>\n",
       "      <td>Economy</td>\n",
       "      <td>Yes</td>\n",
       "    </tr>\n",
       "  </tbody>\n",
       "</table>\n",
       "</div>"
      ],
      "text/plain": [
       "   Sl No Name  Gender   Cabin  Age Fare Type Survived\n",
       "0      1    A    Male  Upper    24  Business      Yes\n",
       "1      2    B  Female   Lower   30   Premium      Yes\n",
       "2      3    C    Male  Middle   35   Economy       No\n",
       "3      4    D    Male  Upper    43  Business      Yes\n",
       "4      5    E    Male   Lower   27   Premium       No\n",
       "5      6    F  Female  Middle   37   Economy       No\n",
       "6      7    G  Female  Upper    53  Business       No\n",
       "7      8    H  Female   Lower   21   Premium      Yes\n",
       "8      9    I    Male  Middle   60   Economy      Yes\n",
       "9     10    J    Male   Lower   34   Economy      Yes"
      ]
     },
     "execution_count": 62,
     "metadata": {},
     "output_type": "execute_result"
    }
   ],
   "source": [
    "titanic_data1"
   ]
  },
  {
   "cell_type": "code",
   "execution_count": 63,
   "id": "340f3747",
   "metadata": {},
   "outputs": [],
   "source": [
    "x=titanic_data1.iloc[:,1:6].values"
   ]
  },
  {
   "cell_type": "code",
   "execution_count": 64,
   "id": "3ccaa8b8",
   "metadata": {},
   "outputs": [],
   "source": [
    "y=titanic_data1.iloc[:,-1].values"
   ]
  },
  {
   "cell_type": "code",
   "execution_count": 65,
   "id": "da241f2c",
   "metadata": {},
   "outputs": [
    {
     "data": {
      "text/plain": [
       "array([['A', 'Male', 'Upper ', 24, 'Business'],\n",
       "       ['B', 'Female', 'Lower', 30, 'Premium'],\n",
       "       ['C', 'Male', 'Middle', 35, 'Economy'],\n",
       "       ['D', 'Male', 'Upper ', 43, 'Business'],\n",
       "       ['E', 'Male', 'Lower', 27, 'Premium'],\n",
       "       ['F', 'Female', 'Middle', 37, 'Economy'],\n",
       "       ['G', 'Female', 'Upper ', 53, 'Business'],\n",
       "       ['H', 'Female', 'Lower', 21, 'Premium'],\n",
       "       ['I', 'Male', 'Middle', 60, 'Economy'],\n",
       "       ['J', 'Male', 'Lower', 34, 'Economy']], dtype=object)"
      ]
     },
     "execution_count": 65,
     "metadata": {},
     "output_type": "execute_result"
    }
   ],
   "source": [
    "x"
   ]
  },
  {
   "cell_type": "code",
   "execution_count": 66,
   "id": "c4c7b5ff",
   "metadata": {},
   "outputs": [
    {
     "data": {
      "text/plain": [
       "array(['Yes', 'Yes', 'No', 'Yes', 'No', 'No', 'No', 'Yes', 'Yes', 'Yes'],\n",
       "      dtype=object)"
      ]
     },
     "execution_count": 66,
     "metadata": {},
     "output_type": "execute_result"
    }
   ],
   "source": [
    "y"
   ]
  },
  {
   "cell_type": "code",
   "execution_count": 67,
   "id": "fc6206d5",
   "metadata": {},
   "outputs": [],
   "source": [
    "from sklearn.preprocessing import LabelEncoder,OneHotEncoder"
   ]
  },
  {
   "cell_type": "code",
   "execution_count": 68,
   "id": "21ead821",
   "metadata": {},
   "outputs": [],
   "source": [
    "le=LabelEncoder()"
   ]
  },
  {
   "cell_type": "code",
   "execution_count": 69,
   "id": "28cbe78d",
   "metadata": {},
   "outputs": [],
   "source": [
    "y=le.fit_transform(y)"
   ]
  },
  {
   "cell_type": "code",
   "execution_count": 70,
   "id": "c91d1177",
   "metadata": {},
   "outputs": [
    {
     "data": {
      "text/plain": [
       "array([1, 1, 0, 1, 0, 0, 0, 1, 1, 1])"
      ]
     },
     "execution_count": 70,
     "metadata": {},
     "output_type": "execute_result"
    }
   ],
   "source": [
    "y"
   ]
  },
  {
   "cell_type": "code",
   "execution_count": 71,
   "id": "46326e09",
   "metadata": {},
   "outputs": [],
   "source": [
    "from sklearn.preprocessing import LabelEncoder,OneHotEncoder"
   ]
  },
  {
   "cell_type": "code",
   "execution_count": 72,
   "id": "79202b7e",
   "metadata": {},
   "outputs": [],
   "source": [
    "le=LabelEncoder()"
   ]
  },
  {
   "cell_type": "code",
   "execution_count": 73,
   "id": "b6abc520",
   "metadata": {},
   "outputs": [],
   "source": [
    "titanic_data1['Genders']= le.fit_transform(titanic_data1['Gender'])"
   ]
  },
  {
   "cell_type": "code",
   "execution_count": 74,
   "id": "752b046d",
   "metadata": {},
   "outputs": [],
   "source": [
    "ohe=OneHotEncoder()"
   ]
  },
  {
   "cell_type": "code",
   "execution_count": 75,
   "id": "ca5e4f67",
   "metadata": {},
   "outputs": [
    {
     "data": {
      "text/html": [
       "<div>\n",
       "<style scoped>\n",
       "    .dataframe tbody tr th:only-of-type {\n",
       "        vertical-align: middle;\n",
       "    }\n",
       "\n",
       "    .dataframe tbody tr th {\n",
       "        vertical-align: top;\n",
       "    }\n",
       "\n",
       "    .dataframe thead th {\n",
       "        text-align: right;\n",
       "    }\n",
       "</style>\n",
       "<table border=\"1\" class=\"dataframe\">\n",
       "  <thead>\n",
       "    <tr style=\"text-align: right;\">\n",
       "      <th></th>\n",
       "      <th>Sl No</th>\n",
       "      <th>Name</th>\n",
       "      <th>Gender</th>\n",
       "      <th>Cabin</th>\n",
       "      <th>Age</th>\n",
       "      <th>Fare Type</th>\n",
       "      <th>Survived</th>\n",
       "      <th>Genders</th>\n",
       "    </tr>\n",
       "  </thead>\n",
       "  <tbody>\n",
       "    <tr>\n",
       "      <th>0</th>\n",
       "      <td>1</td>\n",
       "      <td>A</td>\n",
       "      <td>Male</td>\n",
       "      <td>Upper</td>\n",
       "      <td>24</td>\n",
       "      <td>Business</td>\n",
       "      <td>Yes</td>\n",
       "      <td>1</td>\n",
       "    </tr>\n",
       "    <tr>\n",
       "      <th>1</th>\n",
       "      <td>2</td>\n",
       "      <td>B</td>\n",
       "      <td>Female</td>\n",
       "      <td>Lower</td>\n",
       "      <td>30</td>\n",
       "      <td>Premium</td>\n",
       "      <td>Yes</td>\n",
       "      <td>0</td>\n",
       "    </tr>\n",
       "    <tr>\n",
       "      <th>2</th>\n",
       "      <td>3</td>\n",
       "      <td>C</td>\n",
       "      <td>Male</td>\n",
       "      <td>Middle</td>\n",
       "      <td>35</td>\n",
       "      <td>Economy</td>\n",
       "      <td>No</td>\n",
       "      <td>1</td>\n",
       "    </tr>\n",
       "    <tr>\n",
       "      <th>3</th>\n",
       "      <td>4</td>\n",
       "      <td>D</td>\n",
       "      <td>Male</td>\n",
       "      <td>Upper</td>\n",
       "      <td>43</td>\n",
       "      <td>Business</td>\n",
       "      <td>Yes</td>\n",
       "      <td>1</td>\n",
       "    </tr>\n",
       "    <tr>\n",
       "      <th>4</th>\n",
       "      <td>5</td>\n",
       "      <td>E</td>\n",
       "      <td>Male</td>\n",
       "      <td>Lower</td>\n",
       "      <td>27</td>\n",
       "      <td>Premium</td>\n",
       "      <td>No</td>\n",
       "      <td>1</td>\n",
       "    </tr>\n",
       "    <tr>\n",
       "      <th>5</th>\n",
       "      <td>6</td>\n",
       "      <td>F</td>\n",
       "      <td>Female</td>\n",
       "      <td>Middle</td>\n",
       "      <td>37</td>\n",
       "      <td>Economy</td>\n",
       "      <td>No</td>\n",
       "      <td>0</td>\n",
       "    </tr>\n",
       "    <tr>\n",
       "      <th>6</th>\n",
       "      <td>7</td>\n",
       "      <td>G</td>\n",
       "      <td>Female</td>\n",
       "      <td>Upper</td>\n",
       "      <td>53</td>\n",
       "      <td>Business</td>\n",
       "      <td>No</td>\n",
       "      <td>0</td>\n",
       "    </tr>\n",
       "    <tr>\n",
       "      <th>7</th>\n",
       "      <td>8</td>\n",
       "      <td>H</td>\n",
       "      <td>Female</td>\n",
       "      <td>Lower</td>\n",
       "      <td>21</td>\n",
       "      <td>Premium</td>\n",
       "      <td>Yes</td>\n",
       "      <td>0</td>\n",
       "    </tr>\n",
       "    <tr>\n",
       "      <th>8</th>\n",
       "      <td>9</td>\n",
       "      <td>I</td>\n",
       "      <td>Male</td>\n",
       "      <td>Middle</td>\n",
       "      <td>60</td>\n",
       "      <td>Economy</td>\n",
       "      <td>Yes</td>\n",
       "      <td>1</td>\n",
       "    </tr>\n",
       "    <tr>\n",
       "      <th>9</th>\n",
       "      <td>10</td>\n",
       "      <td>J</td>\n",
       "      <td>Male</td>\n",
       "      <td>Lower</td>\n",
       "      <td>34</td>\n",
       "      <td>Economy</td>\n",
       "      <td>Yes</td>\n",
       "      <td>1</td>\n",
       "    </tr>\n",
       "  </tbody>\n",
       "</table>\n",
       "</div>"
      ],
      "text/plain": [
       "   Sl No Name  Gender   Cabin  Age Fare Type Survived  Genders\n",
       "0      1    A    Male  Upper    24  Business      Yes        1\n",
       "1      2    B  Female   Lower   30   Premium      Yes        0\n",
       "2      3    C    Male  Middle   35   Economy       No        1\n",
       "3      4    D    Male  Upper    43  Business      Yes        1\n",
       "4      5    E    Male   Lower   27   Premium       No        1\n",
       "5      6    F  Female  Middle   37   Economy       No        0\n",
       "6      7    G  Female  Upper    53  Business       No        0\n",
       "7      8    H  Female   Lower   21   Premium      Yes        0\n",
       "8      9    I    Male  Middle   60   Economy      Yes        1\n",
       "9     10    J    Male   Lower   34   Economy      Yes        1"
      ]
     },
     "execution_count": 75,
     "metadata": {},
     "output_type": "execute_result"
    }
   ],
   "source": [
    "titanic_data1"
   ]
  },
  {
   "cell_type": "code",
   "execution_count": 76,
   "id": "883b6295",
   "metadata": {},
   "outputs": [],
   "source": [
    "data_encode=pd.DataFrame(ohe.fit_transform(titanic_data1[[\"Cabin\",\"Fare Type\",\"Survived\"]]).toarray(),\n",
    "                               columns=['Upper','Lower','Middle','Business','Premium','Economy','Yes','No'])   "
   ]
  },
  {
   "cell_type": "code",
   "execution_count": 77,
   "id": "77e7ff63",
   "metadata": {},
   "outputs": [
    {
     "ename": "NameError",
     "evalue": "name 'X' is not defined",
     "output_type": "error",
     "traceback": [
      "\u001b[1;31m---------------------------------------------------------------------------\u001b[0m",
      "\u001b[1;31mNameError\u001b[0m                                 Traceback (most recent call last)",
      "\u001b[1;32m~\\AppData\\Local\\Temp\\ipykernel_3632\\2074152987.py\u001b[0m in \u001b[0;36m<module>\u001b[1;34m\u001b[0m\n\u001b[1;32m----> 1\u001b[1;33m x_encoded = pd.DataFrame(ohe.fit_transform(X[['Name','Cabin', 'Fare Type']]).toarray(),\n\u001b[0m\u001b[0;32m      2\u001b[0m                             columns=['A','B','C','D','E','F','G','H','I','J','Upper', 'Lower', 'Middle', 'Business', 'Premium', 'Economy'])\n",
      "\u001b[1;31mNameError\u001b[0m: name 'X' is not defined"
     ]
    }
   ],
   "source": [
    "x_encoded = pd.DataFrame(ohe.fit_transform(X[['Name','Cabin', 'Fare Type']]).toarray(),\n",
    "                            columns=['A','B','C','D','E','F','G','H','I','J','Upper', 'Lower', 'Middle', 'Business', 'Premium', 'Economy'])\n"
   ]
  },
  {
   "cell_type": "code",
   "execution_count": 78,
   "id": "ea4be4bf",
   "metadata": {},
   "outputs": [],
   "source": [
    "titanic_data1=pd.concat([titanic_data1,data_encode],axis=1)"
   ]
  },
  {
   "cell_type": "code",
   "execution_count": 79,
   "id": "8dc50dee",
   "metadata": {},
   "outputs": [
    {
     "data": {
      "text/html": [
       "<div>\n",
       "<style scoped>\n",
       "    .dataframe tbody tr th:only-of-type {\n",
       "        vertical-align: middle;\n",
       "    }\n",
       "\n",
       "    .dataframe tbody tr th {\n",
       "        vertical-align: top;\n",
       "    }\n",
       "\n",
       "    .dataframe thead th {\n",
       "        text-align: right;\n",
       "    }\n",
       "</style>\n",
       "<table border=\"1\" class=\"dataframe\">\n",
       "  <thead>\n",
       "    <tr style=\"text-align: right;\">\n",
       "      <th></th>\n",
       "      <th>Sl No</th>\n",
       "      <th>Name</th>\n",
       "      <th>Gender</th>\n",
       "      <th>Cabin</th>\n",
       "      <th>Age</th>\n",
       "      <th>Fare Type</th>\n",
       "      <th>Survived</th>\n",
       "      <th>Genders</th>\n",
       "      <th>Upper</th>\n",
       "      <th>Lower</th>\n",
       "      <th>Middle</th>\n",
       "      <th>Business</th>\n",
       "      <th>Premium</th>\n",
       "      <th>Economy</th>\n",
       "      <th>Yes</th>\n",
       "      <th>No</th>\n",
       "    </tr>\n",
       "  </thead>\n",
       "  <tbody>\n",
       "    <tr>\n",
       "      <th>0</th>\n",
       "      <td>1</td>\n",
       "      <td>A</td>\n",
       "      <td>Male</td>\n",
       "      <td>Upper</td>\n",
       "      <td>24</td>\n",
       "      <td>Business</td>\n",
       "      <td>Yes</td>\n",
       "      <td>1</td>\n",
       "      <td>0.0</td>\n",
       "      <td>0.0</td>\n",
       "      <td>1.0</td>\n",
       "      <td>1.0</td>\n",
       "      <td>0.0</td>\n",
       "      <td>0.0</td>\n",
       "      <td>0.0</td>\n",
       "      <td>1.0</td>\n",
       "    </tr>\n",
       "    <tr>\n",
       "      <th>1</th>\n",
       "      <td>2</td>\n",
       "      <td>B</td>\n",
       "      <td>Female</td>\n",
       "      <td>Lower</td>\n",
       "      <td>30</td>\n",
       "      <td>Premium</td>\n",
       "      <td>Yes</td>\n",
       "      <td>0</td>\n",
       "      <td>1.0</td>\n",
       "      <td>0.0</td>\n",
       "      <td>0.0</td>\n",
       "      <td>0.0</td>\n",
       "      <td>0.0</td>\n",
       "      <td>1.0</td>\n",
       "      <td>0.0</td>\n",
       "      <td>1.0</td>\n",
       "    </tr>\n",
       "    <tr>\n",
       "      <th>2</th>\n",
       "      <td>3</td>\n",
       "      <td>C</td>\n",
       "      <td>Male</td>\n",
       "      <td>Middle</td>\n",
       "      <td>35</td>\n",
       "      <td>Economy</td>\n",
       "      <td>No</td>\n",
       "      <td>1</td>\n",
       "      <td>0.0</td>\n",
       "      <td>1.0</td>\n",
       "      <td>0.0</td>\n",
       "      <td>0.0</td>\n",
       "      <td>1.0</td>\n",
       "      <td>0.0</td>\n",
       "      <td>1.0</td>\n",
       "      <td>0.0</td>\n",
       "    </tr>\n",
       "    <tr>\n",
       "      <th>3</th>\n",
       "      <td>4</td>\n",
       "      <td>D</td>\n",
       "      <td>Male</td>\n",
       "      <td>Upper</td>\n",
       "      <td>43</td>\n",
       "      <td>Business</td>\n",
       "      <td>Yes</td>\n",
       "      <td>1</td>\n",
       "      <td>0.0</td>\n",
       "      <td>0.0</td>\n",
       "      <td>1.0</td>\n",
       "      <td>1.0</td>\n",
       "      <td>0.0</td>\n",
       "      <td>0.0</td>\n",
       "      <td>0.0</td>\n",
       "      <td>1.0</td>\n",
       "    </tr>\n",
       "    <tr>\n",
       "      <th>4</th>\n",
       "      <td>5</td>\n",
       "      <td>E</td>\n",
       "      <td>Male</td>\n",
       "      <td>Lower</td>\n",
       "      <td>27</td>\n",
       "      <td>Premium</td>\n",
       "      <td>No</td>\n",
       "      <td>1</td>\n",
       "      <td>1.0</td>\n",
       "      <td>0.0</td>\n",
       "      <td>0.0</td>\n",
       "      <td>0.0</td>\n",
       "      <td>0.0</td>\n",
       "      <td>1.0</td>\n",
       "      <td>1.0</td>\n",
       "      <td>0.0</td>\n",
       "    </tr>\n",
       "    <tr>\n",
       "      <th>5</th>\n",
       "      <td>6</td>\n",
       "      <td>F</td>\n",
       "      <td>Female</td>\n",
       "      <td>Middle</td>\n",
       "      <td>37</td>\n",
       "      <td>Economy</td>\n",
       "      <td>No</td>\n",
       "      <td>0</td>\n",
       "      <td>0.0</td>\n",
       "      <td>1.0</td>\n",
       "      <td>0.0</td>\n",
       "      <td>0.0</td>\n",
       "      <td>1.0</td>\n",
       "      <td>0.0</td>\n",
       "      <td>1.0</td>\n",
       "      <td>0.0</td>\n",
       "    </tr>\n",
       "    <tr>\n",
       "      <th>6</th>\n",
       "      <td>7</td>\n",
       "      <td>G</td>\n",
       "      <td>Female</td>\n",
       "      <td>Upper</td>\n",
       "      <td>53</td>\n",
       "      <td>Business</td>\n",
       "      <td>No</td>\n",
       "      <td>0</td>\n",
       "      <td>0.0</td>\n",
       "      <td>0.0</td>\n",
       "      <td>1.0</td>\n",
       "      <td>1.0</td>\n",
       "      <td>0.0</td>\n",
       "      <td>0.0</td>\n",
       "      <td>1.0</td>\n",
       "      <td>0.0</td>\n",
       "    </tr>\n",
       "    <tr>\n",
       "      <th>7</th>\n",
       "      <td>8</td>\n",
       "      <td>H</td>\n",
       "      <td>Female</td>\n",
       "      <td>Lower</td>\n",
       "      <td>21</td>\n",
       "      <td>Premium</td>\n",
       "      <td>Yes</td>\n",
       "      <td>0</td>\n",
       "      <td>1.0</td>\n",
       "      <td>0.0</td>\n",
       "      <td>0.0</td>\n",
       "      <td>0.0</td>\n",
       "      <td>0.0</td>\n",
       "      <td>1.0</td>\n",
       "      <td>0.0</td>\n",
       "      <td>1.0</td>\n",
       "    </tr>\n",
       "    <tr>\n",
       "      <th>8</th>\n",
       "      <td>9</td>\n",
       "      <td>I</td>\n",
       "      <td>Male</td>\n",
       "      <td>Middle</td>\n",
       "      <td>60</td>\n",
       "      <td>Economy</td>\n",
       "      <td>Yes</td>\n",
       "      <td>1</td>\n",
       "      <td>0.0</td>\n",
       "      <td>1.0</td>\n",
       "      <td>0.0</td>\n",
       "      <td>0.0</td>\n",
       "      <td>1.0</td>\n",
       "      <td>0.0</td>\n",
       "      <td>0.0</td>\n",
       "      <td>1.0</td>\n",
       "    </tr>\n",
       "    <tr>\n",
       "      <th>9</th>\n",
       "      <td>10</td>\n",
       "      <td>J</td>\n",
       "      <td>Male</td>\n",
       "      <td>Lower</td>\n",
       "      <td>34</td>\n",
       "      <td>Economy</td>\n",
       "      <td>Yes</td>\n",
       "      <td>1</td>\n",
       "      <td>1.0</td>\n",
       "      <td>0.0</td>\n",
       "      <td>0.0</td>\n",
       "      <td>0.0</td>\n",
       "      <td>1.0</td>\n",
       "      <td>0.0</td>\n",
       "      <td>0.0</td>\n",
       "      <td>1.0</td>\n",
       "    </tr>\n",
       "  </tbody>\n",
       "</table>\n",
       "</div>"
      ],
      "text/plain": [
       "   Sl No Name  Gender   Cabin  Age Fare Type Survived  Genders  Upper  Lower  \\\n",
       "0      1    A    Male  Upper    24  Business      Yes        1    0.0    0.0   \n",
       "1      2    B  Female   Lower   30   Premium      Yes        0    1.0    0.0   \n",
       "2      3    C    Male  Middle   35   Economy       No        1    0.0    1.0   \n",
       "3      4    D    Male  Upper    43  Business      Yes        1    0.0    0.0   \n",
       "4      5    E    Male   Lower   27   Premium       No        1    1.0    0.0   \n",
       "5      6    F  Female  Middle   37   Economy       No        0    0.0    1.0   \n",
       "6      7    G  Female  Upper    53  Business       No        0    0.0    0.0   \n",
       "7      8    H  Female   Lower   21   Premium      Yes        0    1.0    0.0   \n",
       "8      9    I    Male  Middle   60   Economy      Yes        1    0.0    1.0   \n",
       "9     10    J    Male   Lower   34   Economy      Yes        1    1.0    0.0   \n",
       "\n",
       "   Middle  Business  Premium  Economy  Yes   No  \n",
       "0     1.0       1.0      0.0      0.0  0.0  1.0  \n",
       "1     0.0       0.0      0.0      1.0  0.0  1.0  \n",
       "2     0.0       0.0      1.0      0.0  1.0  0.0  \n",
       "3     1.0       1.0      0.0      0.0  0.0  1.0  \n",
       "4     0.0       0.0      0.0      1.0  1.0  0.0  \n",
       "5     0.0       0.0      1.0      0.0  1.0  0.0  \n",
       "6     1.0       1.0      0.0      0.0  1.0  0.0  \n",
       "7     0.0       0.0      0.0      1.0  0.0  1.0  \n",
       "8     0.0       0.0      1.0      0.0  0.0  1.0  \n",
       "9     0.0       0.0      1.0      0.0  0.0  1.0  "
      ]
     },
     "execution_count": 79,
     "metadata": {},
     "output_type": "execute_result"
    }
   ],
   "source": [
    "titanic_data1"
   ]
  },
  {
   "cell_type": "code",
   "execution_count": 80,
   "id": "3983871f",
   "metadata": {},
   "outputs": [],
   "source": [
    "titanic_data1.drop(['Gender','Fare Type','Survived','Cabin'],axis=1,inplace=True)"
   ]
  },
  {
   "cell_type": "code",
   "execution_count": 85,
   "id": "243f907e",
   "metadata": {},
   "outputs": [],
   "source": [
    "titanic_data1.columns\n",
    "X=titanic_data1[['Sl No', 'Name', 'Age', 'Genders', 'Upper', 'Lower', 'Middle',\n",
    "       'Business', 'Premium', 'Economy']]"
   ]
  },
  {
   "cell_type": "code",
   "execution_count": 82,
   "id": "1e526db7",
   "metadata": {},
   "outputs": [],
   "source": [
    "from sklearn.model_selection import train_test_split"
   ]
  },
  {
   "cell_type": "code",
   "execution_count": 162,
   "id": "616b5de3",
   "metadata": {},
   "outputs": [],
   "source": [
    "X_train, X_test, y_train, y_test = train_test_split(X, y, test_size=0.5, random_state=101)"
   ]
  },
  {
   "cell_type": "code",
   "execution_count": 163,
   "id": "0a51639d",
   "metadata": {},
   "outputs": [],
   "source": [
    "X_train.drop('Name',axis=1,inplace=True)"
   ]
  },
  {
   "cell_type": "code",
   "execution_count": 164,
   "id": "6f3d18b5",
   "metadata": {},
   "outputs": [
    {
     "data": {
      "text/plain": [
       "array([1, 0, 1, 0, 1])"
      ]
     },
     "execution_count": 164,
     "metadata": {},
     "output_type": "execute_result"
    }
   ],
   "source": [
    "y_test"
   ]
  },
  {
   "cell_type": "code",
   "execution_count": 165,
   "id": "a25c3b9b",
   "metadata": {},
   "outputs": [
    {
     "data": {
      "text/plain": [
       "LogisticRegression()"
      ]
     },
     "execution_count": 165,
     "metadata": {},
     "output_type": "execute_result"
    }
   ],
   "source": [
    "from sklearn.linear_model import LogisticRegression\n",
    "regressor = LogisticRegression()\n",
    "regressor.fit(X_train,y_train)"
   ]
  },
  {
   "cell_type": "code",
   "execution_count": 166,
   "id": "d1d96d88",
   "metadata": {},
   "outputs": [
    {
     "data": {
      "text/html": [
       "<div>\n",
       "<style scoped>\n",
       "    .dataframe tbody tr th:only-of-type {\n",
       "        vertical-align: middle;\n",
       "    }\n",
       "\n",
       "    .dataframe tbody tr th {\n",
       "        vertical-align: top;\n",
       "    }\n",
       "\n",
       "    .dataframe thead th {\n",
       "        text-align: right;\n",
       "    }\n",
       "</style>\n",
       "<table border=\"1\" class=\"dataframe\">\n",
       "  <thead>\n",
       "    <tr style=\"text-align: right;\">\n",
       "      <th></th>\n",
       "      <th>Sl No</th>\n",
       "      <th>Age</th>\n",
       "      <th>Genders</th>\n",
       "      <th>Upper</th>\n",
       "      <th>Lower</th>\n",
       "      <th>Middle</th>\n",
       "      <th>Business</th>\n",
       "      <th>Premium</th>\n",
       "      <th>Economy</th>\n",
       "    </tr>\n",
       "  </thead>\n",
       "  <tbody>\n",
       "    <tr>\n",
       "      <th>3</th>\n",
       "      <td>4</td>\n",
       "      <td>43</td>\n",
       "      <td>1</td>\n",
       "      <td>0.0</td>\n",
       "      <td>0.0</td>\n",
       "      <td>1.0</td>\n",
       "      <td>1.0</td>\n",
       "      <td>0.0</td>\n",
       "      <td>0.0</td>\n",
       "    </tr>\n",
       "    <tr>\n",
       "      <th>5</th>\n",
       "      <td>6</td>\n",
       "      <td>37</td>\n",
       "      <td>0</td>\n",
       "      <td>0.0</td>\n",
       "      <td>1.0</td>\n",
       "      <td>0.0</td>\n",
       "      <td>0.0</td>\n",
       "      <td>1.0</td>\n",
       "      <td>0.0</td>\n",
       "    </tr>\n",
       "    <tr>\n",
       "      <th>7</th>\n",
       "      <td>8</td>\n",
       "      <td>21</td>\n",
       "      <td>0</td>\n",
       "      <td>1.0</td>\n",
       "      <td>0.0</td>\n",
       "      <td>0.0</td>\n",
       "      <td>0.0</td>\n",
       "      <td>0.0</td>\n",
       "      <td>1.0</td>\n",
       "    </tr>\n",
       "    <tr>\n",
       "      <th>6</th>\n",
       "      <td>7</td>\n",
       "      <td>53</td>\n",
       "      <td>0</td>\n",
       "      <td>0.0</td>\n",
       "      <td>0.0</td>\n",
       "      <td>1.0</td>\n",
       "      <td>1.0</td>\n",
       "      <td>0.0</td>\n",
       "      <td>0.0</td>\n",
       "    </tr>\n",
       "    <tr>\n",
       "      <th>1</th>\n",
       "      <td>2</td>\n",
       "      <td>30</td>\n",
       "      <td>0</td>\n",
       "      <td>1.0</td>\n",
       "      <td>0.0</td>\n",
       "      <td>0.0</td>\n",
       "      <td>0.0</td>\n",
       "      <td>0.0</td>\n",
       "      <td>1.0</td>\n",
       "    </tr>\n",
       "  </tbody>\n",
       "</table>\n",
       "</div>"
      ],
      "text/plain": [
       "   Sl No  Age  Genders  Upper  Lower  Middle  Business  Premium  Economy\n",
       "3      4   43        1    0.0    0.0     1.0       1.0      0.0      0.0\n",
       "5      6   37        0    0.0    1.0     0.0       0.0      1.0      0.0\n",
       "7      8   21        0    1.0    0.0     0.0       0.0      0.0      1.0\n",
       "6      7   53        0    0.0    0.0     1.0       1.0      0.0      0.0\n",
       "1      2   30        0    1.0    0.0     0.0       0.0      0.0      1.0"
      ]
     },
     "execution_count": 166,
     "metadata": {},
     "output_type": "execute_result"
    }
   ],
   "source": [
    "X_train"
   ]
  },
  {
   "cell_type": "code",
   "execution_count": 167,
   "id": "02c7250e",
   "metadata": {},
   "outputs": [],
   "source": [
    "X_test.drop('Name',axis=1,inplace=True)\n",
    "y_pred=regressor.predict(X_test)"
   ]
  },
  {
   "cell_type": "code",
   "execution_count": 168,
   "id": "c3c763f0",
   "metadata": {},
   "outputs": [
    {
     "data": {
      "text/plain": [
       "array([0, 1, 1, 1, 0])"
      ]
     },
     "execution_count": 168,
     "metadata": {},
     "output_type": "execute_result"
    }
   ],
   "source": [
    "y_pred"
   ]
  },
  {
   "cell_type": "code",
   "execution_count": 169,
   "id": "f2f9243b",
   "metadata": {},
   "outputs": [],
   "source": [
    "from sklearn.metrics import confusion_matrix,accuracy_score"
   ]
  },
  {
   "cell_type": "code",
   "execution_count": 170,
   "id": "0b8c08b4",
   "metadata": {},
   "outputs": [
    {
     "data": {
      "text/plain": [
       "array([[0, 2],\n",
       "       [2, 1]], dtype=int64)"
      ]
     },
     "execution_count": 170,
     "metadata": {},
     "output_type": "execute_result"
    }
   ],
   "source": [
    "cm=confusion_matrix(y_test,y_pred)\n",
    "cm"
   ]
  },
  {
   "cell_type": "code",
   "execution_count": 171,
   "id": "edc3af7e",
   "metadata": {},
   "outputs": [],
   "source": [
    "as1=accuracy_score(y_test,y_pred)"
   ]
  },
  {
   "cell_type": "code",
   "execution_count": 172,
   "id": "f40e17c1",
   "metadata": {},
   "outputs": [
    {
     "data": {
      "text/plain": [
       "0.2"
      ]
     },
     "execution_count": 172,
     "metadata": {},
     "output_type": "execute_result"
    }
   ],
   "source": [
    "as1"
   ]
  },
  {
   "cell_type": "code",
   "execution_count": 173,
   "id": "e302df48",
   "metadata": {},
   "outputs": [
    {
     "data": {
      "text/plain": [
       "DecisionTreeClassifier(criterion='entropy', random_state=0)"
      ]
     },
     "execution_count": 173,
     "metadata": {},
     "output_type": "execute_result"
    }
   ],
   "source": [
    "from sklearn.tree import DecisionTreeClassifier\n",
    "classifier = DecisionTreeClassifier(criterion = 'entropy',random_state = 0)\n",
    "classifier.fit(X_train,y_train)"
   ]
  },
  {
   "cell_type": "code",
   "execution_count": 174,
   "id": "17ebe854",
   "metadata": {},
   "outputs": [],
   "source": [
    "from sklearn.metrics import confusion_matrix,accuracy_score"
   ]
  },
  {
   "cell_type": "code",
   "execution_count": 175,
   "id": "f14baf01",
   "metadata": {},
   "outputs": [],
   "source": [
    "cm1=confusion_matrix(y_test,y_pred)"
   ]
  },
  {
   "cell_type": "code",
   "execution_count": 176,
   "id": "6045bbc4",
   "metadata": {},
   "outputs": [
    {
     "data": {
      "text/plain": [
       "array([[0, 2],\n",
       "       [2, 1]], dtype=int64)"
      ]
     },
     "execution_count": 176,
     "metadata": {},
     "output_type": "execute_result"
    }
   ],
   "source": [
    "cm1"
   ]
  },
  {
   "cell_type": "code",
   "execution_count": 177,
   "id": "4e58e46c",
   "metadata": {},
   "outputs": [],
   "source": [
    "ac=accuracy_score(y_test,y_pred)"
   ]
  },
  {
   "cell_type": "code",
   "execution_count": 178,
   "id": "22d9569b",
   "metadata": {},
   "outputs": [
    {
     "data": {
      "text/plain": [
       "0.2"
      ]
     },
     "execution_count": 178,
     "metadata": {},
     "output_type": "execute_result"
    }
   ],
   "source": [
    "ac"
   ]
  },
  {
   "cell_type": "code",
   "execution_count": 179,
   "id": "a37404eb",
   "metadata": {},
   "outputs": [],
   "source": [
    "y_pred1=classifier.predict(X_test)"
   ]
  },
  {
   "cell_type": "code",
   "execution_count": 180,
   "id": "8302c111",
   "metadata": {},
   "outputs": [],
   "source": [
    "cm2=confusion_matrix(y_test,y_pred1)"
   ]
  },
  {
   "cell_type": "code",
   "execution_count": 181,
   "id": "5679b7db",
   "metadata": {},
   "outputs": [
    {
     "data": {
      "text/plain": [
       "array([[0, 2],\n",
       "       [1, 2]], dtype=int64)"
      ]
     },
     "execution_count": 181,
     "metadata": {},
     "output_type": "execute_result"
    }
   ],
   "source": [
    "cm2"
   ]
  },
  {
   "cell_type": "code",
   "execution_count": 182,
   "id": "cc74618d",
   "metadata": {},
   "outputs": [],
   "source": [
    "ac=accuracy_score(y_test,y_pred1)"
   ]
  },
  {
   "cell_type": "code",
   "execution_count": 183,
   "id": "0c1a45eb",
   "metadata": {},
   "outputs": [
    {
     "data": {
      "text/plain": [
       "0.4"
      ]
     },
     "execution_count": 183,
     "metadata": {},
     "output_type": "execute_result"
    }
   ],
   "source": [
    "ac"
   ]
  },
  {
   "cell_type": "code",
   "execution_count": 184,
   "id": "37989ef3",
   "metadata": {},
   "outputs": [],
   "source": [
    "from sklearn.metrics import classification_report,ConfusionMatrixDisplay"
   ]
  },
  {
   "cell_type": "code",
   "execution_count": 185,
   "id": "39c38ce1",
   "metadata": {},
   "outputs": [],
   "source": [
    "cl=classification_report(y_test,y_pred1)"
   ]
  },
  {
   "cell_type": "code",
   "execution_count": 186,
   "id": "a343a628",
   "metadata": {},
   "outputs": [
    {
     "data": {
      "text/plain": [
       "'              precision    recall  f1-score   support\\n\\n           0       0.00      0.00      0.00         2\\n           1       0.50      0.67      0.57         3\\n\\n    accuracy                           0.40         5\\n   macro avg       0.25      0.33      0.29         5\\nweighted avg       0.30      0.40      0.34         5\\n'"
      ]
     },
     "execution_count": 186,
     "metadata": {},
     "output_type": "execute_result"
    }
   ],
   "source": [
    "cl"
   ]
  },
  {
   "cell_type": "code",
   "execution_count": 187,
   "id": "17f0293e",
   "metadata": {},
   "outputs": [],
   "source": [
    "cn=ConfusionMatrixDisplay(y_test)"
   ]
  },
  {
   "cell_type": "code",
   "execution_count": 188,
   "id": "9f6dc9e8",
   "metadata": {},
   "outputs": [
    {
     "name": "stdout",
     "output_type": "stream",
     "text": [
      "<sklearn.metrics._plot.confusion_matrix.ConfusionMatrixDisplay object at 0x000002DA932B8BE0>\n"
     ]
    }
   ],
   "source": [
    "print(cn)"
   ]
  },
  {
   "cell_type": "code",
   "execution_count": 189,
   "id": "ddce6609",
   "metadata": {},
   "outputs": [],
   "source": [
    "import matplotlib.pyplot as plt"
   ]
  },
  {
   "cell_type": "code",
   "execution_count": 190,
   "id": "a01836ba",
   "metadata": {},
   "outputs": [
    {
     "data": {
      "text/plain": [
       "[<matplotlib.lines.Line2D at 0x2da939cd6a0>,\n",
       " <matplotlib.lines.Line2D at 0x2da939cd700>]"
      ]
     },
     "execution_count": 190,
     "metadata": {},
     "output_type": "execute_result"
    },
    {
     "data": {
      "image/png": "[encoded data removed]",
      "text/plain": [
       "<Figure size 640x480 with 1 Axes>"
      ]
     },
     "metadata": {},
     "output_type": "display_data"
    }
   ],
   "source": [
    "plt.plot(cm1,cm2)"
   ]
  },
  {
   "cell_type": "code",
   "execution_count": 191,
   "id": "4fac0605",
   "metadata": {},
   "outputs": [
    {
     "data": {
      "text/plain": [
       "<sklearn.metrics._plot.confusion_matrix.ConfusionMatrixDisplay at 0x2da939e45b0>"
      ]
     },
     "execution_count": 191,
     "metadata": {},
     "output_type": "execute_result"
    },
    {
     "data": {
      "image/png": "[encoded data removed]",
      "text/plain": [
       "<Figure size 640x480 with 2 Axes>"
      ]
     },
     "metadata": {},
     "output_type": "display_data"
    }
   ],
   "source": [
    "cm3=confusion_matrix(y_test,y_pred)\n",
    "cm_display=ConfusionMatrixDisplay(confusion_matrix=cm3)\n",
    "cm_display.plot()"
   ]
  },
  {
   "cell_type": "code",
   "execution_count": null,
   "id": "5d994f58",
   "metadata": {},
   "outputs": [],
   "source": []
  },
  {
   "cell_type": "code",
   "execution_count": null,
   "id": "a704d05d",
   "metadata": {},
   "outputs": [],
   "source": []
  }
 ],
 "metadata": {
  "kernelspec": {
   "display_name": "Python 3 (ipykernel)",
   "language": "python",
   "name": "python3"
  },
  "language_info": {
   "codemirror_mode": {
    "name": "ipython",
    "version": 3
   },
   "file_extension": ".py",
   "mimetype": "text/x-python",
   "name": "python",
   "nbconvert_exporter": "python",
   "pygments_lexer": "ipython3",
   "version": "3.9.13"
  }
 },
 "nbformat": 4,
 "nbformat_minor": 5
}
