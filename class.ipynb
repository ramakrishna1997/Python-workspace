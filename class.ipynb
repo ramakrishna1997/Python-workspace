{
 "cells": [
  {
   "cell_type": "code",
   "execution_count": 43,
   "id": "023c10f2",
   "metadata": {},
   "outputs": [],
   "source": [
    "class Robo:\n",
    "    def interdouce(self,name):\n",
    "        self.name=name\n",
    "        print(\"hi my name is \"+name)\n",
    "    def age(self,age):\n",
    "        self.age=age\n",
    "        print(f'My age is just {age} days')"
   ]
  },
  {
   "cell_type": "code",
   "execution_count": 44,
   "id": "5b755202",
   "metadata": {},
   "outputs": [],
   "source": [
    "r1=Robo()\n",
    "r2=Robo()"
   ]
  },
  {
   "cell_type": "code",
   "execution_count": 45,
   "id": "3b33919d",
   "metadata": {},
   "outputs": [
    {
     "name": "stdout",
     "output_type": "stream",
     "text": [
      "hi my name is Alex\n",
      "My age is just 2 days\n"
     ]
    }
   ],
   "source": [
    "r1.interdouce(\"Alex\")\n",
    "r2.age(2)"
   ]
  },
  {
   "cell_type": "code",
   "execution_count": 77,
   "id": "e8ef70ac",
   "metadata": {},
   "outputs": [],
   "source": [
    "class car:\n",
    "    def __init__(self,model,car_type,company):\n",
    "        self.model=model\n",
    "        self.car_type=car_type\n",
    "        self.company=company\n",
    "    def Model(self):\n",
    "        print(f\"The model of the car {self.model}\" + \" \"+ )"
   ]
  },
  {
   "cell_type": "code",
   "execution_count": 78,
   "id": "aadf633a",
   "metadata": {},
   "outputs": [],
   "source": [
    "car=car(\"Luxery\",\"family\",\"Maruti\")"
   ]
  },
  {
   "cell_type": "code",
   "execution_count": 80,
   "id": "adc75beb",
   "metadata": {},
   "outputs": [
    {
     "name": "stdout",
     "output_type": "stream",
     "text": [
      "The model of the car Luxery\n"
     ]
    },
    {
     "ename": "TypeError",
     "evalue": "'str' object is not callable",
     "output_type": "error",
     "traceback": [
      "\u001b[1;31m---------------------------------------------------------------------------\u001b[0m",
      "\u001b[1;31mTypeError\u001b[0m                                 Traceback (most recent call last)",
      "\u001b[1;32m~\\AppData\\Local\\Temp\\ipykernel_4944\\3027997953.py\u001b[0m in \u001b[0;36m<module>\u001b[1;34m\u001b[0m\n\u001b[0;32m      1\u001b[0m \u001b[0mcar\u001b[0m\u001b[1;33m.\u001b[0m\u001b[0mModel\u001b[0m\u001b[1;33m(\u001b[0m\u001b[1;33m)\u001b[0m\u001b[1;33m\u001b[0m\u001b[1;33m\u001b[0m\u001b[0m\n\u001b[1;32m----> 2\u001b[1;33m \u001b[0mcar\u001b[0m\u001b[1;33m.\u001b[0m\u001b[0mcar_type\u001b[0m\u001b[1;33m(\u001b[0m\u001b[1;33m)\u001b[0m\u001b[1;33m\u001b[0m\u001b[1;33m\u001b[0m\u001b[0m\n\u001b[0m\u001b[0;32m      3\u001b[0m \u001b[0mcar\u001b[0m\u001b[1;33m.\u001b[0m\u001b[0mcompay\u001b[0m\u001b[1;33m(\u001b[0m\u001b[1;33m)\u001b[0m\u001b[1;33m\u001b[0m\u001b[1;33m\u001b[0m\u001b[0m\n",
      "\u001b[1;31mTypeError\u001b[0m: 'str' object is not callable"
     ]
    }
   ],
   "source": [
    "car.Model()\n",
    "car.car_type()\n",
    "car.compay()"
   ]
  },
  {
   "cell_type": "code",
   "execution_count": 81,
   "id": "4bf3c091",
   "metadata": {},
   "outputs": [
    {
     "name": "stdout",
     "output_type": "stream",
     "text": [
      "This car is a Honda Civic Sedan made by Honda\n",
      "Car type: Sedan\n",
      "Company: Honda\n"
     ]
    }
   ],
   "source": [
    "class Car:\n",
    "    def __init__(self, car_type, model, company):\n",
    "        self.car_type = car_type\n",
    "        self.model = model\n",
    "        self.company = company\n",
    "\n",
    "    def Model(self):\n",
    "        print(\"This car is a \" + self.model + \" \" + self.car_type + \" made by \" + self.company)\n",
    "\n",
    "car = Car(\"Sedan\", \"Honda Civic\", \"Honda\")\n",
    "car.Model()\n",
    "print(\"Car type:\", car.car_type)\n",
    "print(\"Company:\", car.company)\n"
   ]
  },
  {
   "cell_type": "code",
   "execution_count": 1,
   "id": "8db32481",
   "metadata": {},
   "outputs": [
    {
     "name": "stdout",
     "output_type": "stream",
     "text": [
      "Max\n",
      "Labrador\n",
      "Woof!\n"
     ]
    }
   ],
   "source": [
    "class Dog:\n",
    "    def __init__(self, name, breed):\n",
    "        self.name = name\n",
    "        self.breed = breed\n",
    "\n",
    "    def bark(self):\n",
    "        print(\"Woof!\")\n",
    "\n",
    "dog = Dog(\"Max\", \"Labrador\")\n",
    "print(dog.name)\n",
    "print(dog.breed)\n",
    "dog.bark()\n"
   ]
  },
  {
   "cell_type": "code",
   "execution_count": null,
   "id": "235f00d7",
   "metadata": {},
   "outputs": [],
   "source": []
  }
 ],
 "metadata": {
  "kernelspec": {
   "display_name": "Python 3 (ipykernel)",
   "language": "python",
   "name": "python3"
  },
  "language_info": {
   "codemirror_mode": {
    "name": "ipython",
    "version": 3
   },
   "file_extension": ".py",
   "mimetype": "text/x-python",
   "name": "python",
   "nbconvert_exporter": "python",
   "pygments_lexer": "ipython3",
   "version": "3.9.13"
  }
 },
 "nbformat": 4,
 "nbformat_minor": 5
}
